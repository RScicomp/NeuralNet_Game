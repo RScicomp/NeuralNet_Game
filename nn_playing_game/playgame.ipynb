{
 "cells": [
  {
   "cell_type": "code",
   "execution_count": 21,
   "metadata": {},
   "outputs": [],
   "source": [
    "from game import controlled_run\n"
   ]
  },
  {
   "cell_type": "code",
   "execution_count": 24,
   "metadata": {},
   "outputs": [],
   "source": [
    "import numpy as np\n",
    "from game import DO_NOTHING\n",
    "from game import JUMP\n",
    "\n",
    "games_count=0\n",
    "total_number_of_games =10\n",
    "\n",
    "\n",
    "import keras \n",
    "from keras.models import Sequential\n",
    "from keras.layers import Dense\n",
    "from keras.optimizers import Adam\n",
    "from keras.utils.np_utils import to_categorical\n",
    "\n",
    "model = Sequential()\n",
    "model.add(Dense(1,input_dim=1,activation='sigmoid'))\n",
    "model.add(Dense(2,activation='softmax'))\n",
    "model.compile(Adam(lr=0.1),loss='categorical_crossentropy',metrics=['accuracy'])\n",
    "\n",
    "x_train = np.array([])\n",
    "y_train = np.array([])\n",
    "\n",
    "\n",
    "# flaw in game design, it should be based on whether or not you make it past an opponent\n",
    "class Wrapper(object):\n",
    "    \n",
    "    \n",
    "    def __init__(self):\n",
    "        controlled_run(self,0)\n",
    "        \n",
    "    def control(self,values):\n",
    "        global x_train\n",
    "        global y_train\n",
    "        \n",
    "        print(values)\n",
    "        \n",
    "        if(values['closest_enemy'] == -1):\n",
    "            return DO_NOTHING\n",
    "        \n",
    "        if(values['old_closest_enemy']!=-1):\n",
    "            if(values['score_increased']==1):\n",
    "                x_train = np.append(x_train,[values['old_closest_enemy']/1000])\n",
    "                y_train = np.append(y_train,[values['action']])\n",
    "                \n",
    "        prediction=model.predict_classes(np.array([[values['closest_enemy']]])/1000)\n",
    "            \n",
    "        \n",
    "        return prediction\n",
    "    \n",
    "    def gameover(self,score):\n",
    "        global games_count\n",
    "        global x_train\n",
    "        global y_train\n",
    "        \n",
    "        print(x_train)\n",
    "        print(y_train)\n",
    "        \n",
    "        if(games_count >0):\n",
    "            y_train_cat = to_categorical(y_train,num_classes=2)\n",
    "            model.fit(x_train,y_train_cat,epochs=50, verbose =1,shuffle=1)\n",
    "            \n",
    "        games_count+=1\n",
    "        \n",
    "        if games_count>=total_number_of_games: \n",
    "            return\n",
    "        controlled_run(self,games_count)\n",
    "\n"
   ]
  },
  {
   "cell_type": "code",
   "execution_count": 25,
   "metadata": {},
   "outputs": [
    {
     "name": "stdout",
     "output_type": "stream",
     "text": [
      "{'action': 0, 'old_closest_enemy': -1, 'closest_enemy': -1, 'score_increased': 1}\n",
      "{'action': 0, 'old_closest_enemy': -1, 'closest_enemy': -1, 'score_increased': 1}\n",
      "{'action': 0, 'old_closest_enemy': -1, 'closest_enemy': 880, 'score_increased': 1}\n",
      "{'action': array([1]), 'old_closest_enemy': 880, 'closest_enemy': 571, 'score_increased': 0}\n",
      "{'action': array([1]), 'old_closest_enemy': 571, 'closest_enemy': 262, 'score_increased': 0}\n",
      "{'action': array([1]), 'old_closest_enemy': 262, 'closest_enemy': 901, 'score_increased': 1}\n",
      "{'action': array([1]), 'old_closest_enemy': 901, 'closest_enemy': 592, 'score_increased': 0}\n",
      "{'action': array([1]), 'old_closest_enemy': 592, 'closest_enemy': 283, 'score_increased': 0}\n",
      "{'action': array([1]), 'old_closest_enemy': 283, 'closest_enemy': -1, 'score_increased': 1}\n",
      "{'action': 0, 'old_closest_enemy': -1, 'closest_enemy': -1, 'score_increased': 1}\n",
      "{'action': 0, 'old_closest_enemy': -1, 'closest_enemy': -1, 'score_increased': 1}\n",
      "{'action': 0, 'old_closest_enemy': -1, 'closest_enemy': -1, 'score_increased': 1}\n",
      "{'action': 0, 'old_closest_enemy': -1, 'closest_enemy': -1, 'score_increased': 1}\n",
      "{'action': 0, 'old_closest_enemy': -1, 'closest_enemy': 907, 'score_increased': 1}\n",
      "{'action': array([1]), 'old_closest_enemy': 907, 'closest_enemy': 598, 'score_increased': 0}\n",
      "{'action': array([1]), 'old_closest_enemy': 598, 'closest_enemy': 289, 'score_increased': 0}\n",
      "{'action': array([1]), 'old_closest_enemy': 289, 'closest_enemy': -1, 'score_increased': 1}\n",
      "{'action': 0, 'old_closest_enemy': -1, 'closest_enemy': -1, 'score_increased': 1}\n",
      "{'action': 0, 'old_closest_enemy': -1, 'closest_enemy': -1, 'score_increased': 1}\n",
      "{'action': 0, 'old_closest_enemy': -1, 'closest_enemy': 868, 'score_increased': 1}\n",
      "{'action': array([1]), 'old_closest_enemy': 868, 'closest_enemy': 559, 'score_increased': 0}\n",
      "{'action': array([1]), 'old_closest_enemy': 559, 'closest_enemy': 250, 'score_increased': 0}\n",
      "{'action': array([1]), 'old_closest_enemy': 250, 'closest_enemy': 616, 'score_increased': 1}\n"
     ]
    },
    {
     "ename": "KeyboardInterrupt",
     "evalue": "",
     "output_type": "error",
     "traceback": [
      "\u001b[0;31m---------------------------------------------------------------------------\u001b[0m",
      "\u001b[0;31mKeyboardInterrupt\u001b[0m                         Traceback (most recent call last)",
      "\u001b[0;32m<ipython-input-25-8ab44e5728fb>\u001b[0m in \u001b[0;36m<module>\u001b[0;34m()\u001b[0m\n\u001b[0;32m----> 1\u001b[0;31m \u001b[0mw\u001b[0m\u001b[0;34m=\u001b[0m\u001b[0mWrapper\u001b[0m\u001b[0;34m(\u001b[0m\u001b[0;34m)\u001b[0m\u001b[0;34m\u001b[0m\u001b[0;34m\u001b[0m\u001b[0m\n\u001b[0m",
      "\u001b[0;32m<ipython-input-24-08b29b5aa205>\u001b[0m in \u001b[0;36m__init__\u001b[0;34m(self)\u001b[0m\n\u001b[1;32m     24\u001b[0m \u001b[0;34m\u001b[0m\u001b[0m\n\u001b[1;32m     25\u001b[0m     \u001b[0;32mdef\u001b[0m \u001b[0m__init__\u001b[0m\u001b[0;34m(\u001b[0m\u001b[0mself\u001b[0m\u001b[0;34m)\u001b[0m\u001b[0;34m:\u001b[0m\u001b[0;34m\u001b[0m\u001b[0;34m\u001b[0m\u001b[0m\n\u001b[0;32m---> 26\u001b[0;31m         \u001b[0mcontrolled_run\u001b[0m\u001b[0;34m(\u001b[0m\u001b[0mself\u001b[0m\u001b[0;34m,\u001b[0m\u001b[0;36m0\u001b[0m\u001b[0;34m)\u001b[0m\u001b[0;34m\u001b[0m\u001b[0;34m\u001b[0m\u001b[0m\n\u001b[0m\u001b[1;32m     27\u001b[0m \u001b[0;34m\u001b[0m\u001b[0m\n\u001b[1;32m     28\u001b[0m     \u001b[0;32mdef\u001b[0m \u001b[0mcontrol\u001b[0m\u001b[0;34m(\u001b[0m\u001b[0mself\u001b[0m\u001b[0;34m,\u001b[0m\u001b[0mvalues\u001b[0m\u001b[0;34m)\u001b[0m\u001b[0;34m:\u001b[0m\u001b[0;34m\u001b[0m\u001b[0;34m\u001b[0m\u001b[0m\n",
      "\u001b[0;32m~/Desktop/NeuralNet_Game/nn_playing_game/game.py\u001b[0m in \u001b[0;36mcontrolled_run\u001b[0;34m(wrapper, counter)\u001b[0m\n\u001b[1;32m    223\u001b[0m \u001b[0;34m\u001b[0m\u001b[0m\n\u001b[1;32m    224\u001b[0m                         \u001b[0mupdate\u001b[0m\u001b[0;34m(\u001b[0m\u001b[0mgameDisplay\u001b[0m\u001b[0;34m,\u001b[0m \u001b[0mplayer\u001b[0m\u001b[0;34m)\u001b[0m\u001b[0;34m\u001b[0m\u001b[0;34m\u001b[0m\u001b[0m\n\u001b[0;32m--> 225\u001b[0;31m                         \u001b[0mpygame\u001b[0m\u001b[0;34m.\u001b[0m\u001b[0mdisplay\u001b[0m\u001b[0;34m.\u001b[0m\u001b[0mupdate\u001b[0m\u001b[0;34m(\u001b[0m\u001b[0;34m)\u001b[0m\u001b[0;34m\u001b[0m\u001b[0;34m\u001b[0m\u001b[0m\n\u001b[0m\u001b[1;32m    226\u001b[0m                         \u001b[0mclock\u001b[0m\u001b[0;34m.\u001b[0m\u001b[0mtick\u001b[0m\u001b[0;34m(\u001b[0m\u001b[0mclock_tick\u001b[0m\u001b[0;34m)\u001b[0m\u001b[0;34m\u001b[0m\u001b[0;34m\u001b[0m\u001b[0m\n\u001b[1;32m    227\u001b[0m \u001b[0;34m\u001b[0m\u001b[0m\n",
      "\u001b[0;31mKeyboardInterrupt\u001b[0m: "
     ]
    }
   ],
   "source": [
    "w=Wrapper()"
   ]
  },
  {
   "cell_type": "code",
   "execution_count": 20,
   "metadata": {},
   "outputs": [
    {
     "data": {
      "text/plain": [
       "40"
      ]
     },
     "execution_count": 20,
     "metadata": {},
     "output_type": "execute_result"
    }
   ],
   "source": [
    "len(y_train)"
   ]
  }
 ],
 "metadata": {
  "kernelspec": {
   "display_name": "Python 3",
   "language": "python",
   "name": "python3"
  },
  "language_info": {
   "codemirror_mode": {
    "name": "ipython",
    "version": 3
   },
   "file_extension": ".py",
   "mimetype": "text/x-python",
   "name": "python",
   "nbconvert_exporter": "python",
   "pygments_lexer": "ipython3",
   "version": "3.6.10"
  }
 },
 "nbformat": 4,
 "nbformat_minor": 2
}
